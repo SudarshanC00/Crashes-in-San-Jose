{
  "nbformat": 4,
  "nbformat_minor": 0,
  "metadata": {
    "colab": {
      "provenance": []
    },
    "kernelspec": {
      "name": "python3",
      "display_name": "Python 3"
    },
    "language_info": {
      "name": "python"
    }
  },
  "cells": [
    {
      "cell_type": "markdown",
      "source": [
        "# 1. Connection to Big Query"
      ],
      "metadata": {
        "id": "hSRXSz2dFmC8"
      }
    },
    {
      "cell_type": "code",
      "execution_count": 1,
      "metadata": {
        "colab": {
          "base_uri": "https://localhost:8080/"
        },
        "id": "h0GcI8tJ4vCL",
        "outputId": "777a7385-f572-4d89-8de8-ab0d0a5d659b"
      },
      "outputs": [
        {
          "output_type": "stream",
          "name": "stdout",
          "text": [
            "Authenticated\n"
          ]
        }
      ],
      "source": [
        "# Establish connection to BigQuery\n",
        "from google.colab import auth\n",
        "auth.authenticate_user()\n",
        "\n",
        "print('Authenticated')"
      ]
    },
    {
      "cell_type": "code",
      "source": [
        "%load_ext google.colab.data_table"
      ],
      "metadata": {
        "id": "ZuJpZbTQOIVy"
      },
      "execution_count": 2,
      "outputs": []
    },
    {
      "cell_type": "code",
      "source": [
        "!gcloud config list"
      ],
      "metadata": {
        "colab": {
          "base_uri": "https://localhost:8080/"
        },
        "id": "zTUWrxWIOcNT",
        "outputId": "7d5c88b4-3b74-46ab-c507-c74a6ea9b78f"
      },
      "execution_count": 3,
      "outputs": [
        {
          "output_type": "stream",
          "name": "stdout",
          "text": [
            "[component_manager]\n",
            "disable_update_check = True\n",
            "[core]\n",
            "account = sudarshan.chikkathimmaiah@sjsu.edu\n",
            "\n",
            "Your active configuration is: [default]\n"
          ]
        }
      ]
    },
    {
      "cell_type": "code",
      "source": [
        "!gcloud config set project 'crashes-in-san-jose'"
      ],
      "metadata": {
        "colab": {
          "base_uri": "https://localhost:8080/"
        },
        "id": "kCIegJwBOl0p",
        "outputId": "cc53fcbe-a322-4379-9c73-0c364c2910c1"
      },
      "execution_count": 4,
      "outputs": [
        {
          "output_type": "stream",
          "name": "stdout",
          "text": [
            "Updated property [core/project].\n"
          ]
        }
      ]
    },
    {
      "cell_type": "code",
      "source": [
        "!gcloud config list project"
      ],
      "metadata": {
        "colab": {
          "base_uri": "https://localhost:8080/"
        },
        "id": "OgOtkoE-O3vJ",
        "outputId": "cdd07ea6-f0a0-46cc-b042-0ca62dba4ff9"
      },
      "execution_count": 5,
      "outputs": [
        {
          "output_type": "stream",
          "name": "stdout",
          "text": [
            "[core]\n",
            "project = crashes-in-san-jose\n",
            "\n",
            "Your active configuration is: [default]\n"
          ]
        }
      ]
    },
    {
      "cell_type": "markdown",
      "source": [
        "# 2. Load Dataset from Big Query"
      ],
      "metadata": {
        "id": "dpEhcnrAQYDf"
      }
    },
    {
      "cell_type": "code",
      "source": [
        "from google.cloud import bigquery\n",
        "\n",
        "# dataset is created with project id: crashes-in-san-jose\n",
        "project_id = 'crashes-in-san-jose'\n",
        "client = bigquery.Client(project=project_id)\n",
        "\n",
        "#Print your current data\n",
        "# print the dataset id\n",
        "for dataset in client.list_datasets():\n",
        "  print(dataset.dataset_id)"
      ],
      "metadata": {
        "colab": {
          "base_uri": "https://localhost:8080/"
        },
        "id": "3rclrybhPNkr",
        "outputId": "d79f2656-48fc-4fd8-9493-4e9e813ffe1b"
      },
      "execution_count": 6,
      "outputs": [
        {
          "output_type": "stream",
          "name": "stdout",
          "text": [
            "SUD_1\n"
          ]
        }
      ]
    },
    {
      "cell_type": "code",
      "source": [
        "# load the dataset from bigquery\n",
        "query1 = \"\"\"SELECT * FROM `crashes-in-san-jose.SUD_1.Crashes_locations`\"\"\""
      ],
      "metadata": {
        "id": "NaScb7rnPYLH"
      },
      "execution_count": 7,
      "outputs": []
    },
    {
      "cell_type": "code",
      "source": [
        "dfquery = client.query(query1)"
      ],
      "metadata": {
        "id": "MwXxoKezRp03"
      },
      "execution_count": 8,
      "outputs": []
    },
    {
      "cell_type": "code",
      "source": [
        "# store the dataset and print the few rows of data\n",
        "df_natality=dfquery.to_dataframe()\n",
        "df_natality.head(200)"
      ],
      "metadata": {
        "colab": {
          "base_uri": "https://localhost:8080/",
          "height": 1000
        },
        "collapsed": true,
        "id": "37YGzJlGRu4i",
        "outputId": "f7fd7a00-389e-420f-ca5a-16690ebfd1df"
      },
      "execution_count": 9,
      "outputs": [
        {
          "output_type": "stream",
          "name": "stdout",
          "text": [
            "Warning: Total number of columns (61) exceeds max_columns (20). Falling back to pandas display.\n"
          ]
        },
        {
          "output_type": "execute_result",
          "data": {
            "text/plain": [
              "                X             Y  DAYNUMBER  \\\n",
              "0    6.135121e+06  1.929843e+06         28   \n",
              "1    6.135159e+06  1.929282e+06          6   \n",
              "2    6.135159e+06  1.929282e+06         21   \n",
              "3    6.135159e+06  1.929282e+06         23   \n",
              "4    6.135101e+06  1.930220e+06         27   \n",
              "..            ...           ...        ...   \n",
              "195  6.185284e+06  1.939248e+06         10   \n",
              "196  6.185284e+06  1.939248e+06         13   \n",
              "197  6.185284e+06  1.939248e+06          7   \n",
              "198  6.185284e+06  1.939248e+06         14   \n",
              "199  6.185284e+06  1.939248e+06         11   \n",
              "\n",
              "                                             NARRATIVE        AGERANGE  \\\n",
              "0    23 year-old male driver vs 22 year-old male tr...    16-29, 16-29   \n",
              "1    17 year-old female truck driver vs 21 year-old...    16-29, 16-29   \n",
              "2    20 year-old female driver vs 22 year-old male ...    16-29, 16-29   \n",
              "3       52 year-old male drunk driver vs 2 parked cars           50-64   \n",
              "4    29 year-old female driver vs unspecified truck...           16-29   \n",
              "..                                                 ...             ...   \n",
              "195  22 year-old female driver vs 19 year-old male ...    16-29, 16-29   \n",
              "196  73 year-old female driver vs 21 year-old femal...  65 plus, 16-29   \n",
              "197           Unspecified hit-and-run driver vs object            None   \n",
              "198  58 year-old female driver vs 37 year-old femal...    50-64, 30-49   \n",
              "199    42 year-old female driver vs unspecified driver    30-49, 50-64   \n",
              "\n",
              "         CRASHNAME   LATITUDE   LONGITUDE  INTERSECTIONNUMBERINT  \\\n",
              "0     TAPSCR-95008  37.285709 -121.966229                   1044   \n",
              "1     TAPSCR-12052  37.284172 -121.966070                   1055   \n",
              "2     TAPSCR-76013  37.284172 -121.966070                   1055   \n",
              "3    CR-0000024624  37.284172 -121.966070                   1055   \n",
              "4    TAPSCR-386527  37.286744 -121.966319                   1066   \n",
              "..             ...        ...         ...                    ...   \n",
              "195  TAPSCR-295305  37.313570 -121.794266                   1231   \n",
              "196  TAPSCR-372455  37.313570 -121.794266                   1231   \n",
              "197  CR-0000011614  37.313570 -121.794266                   1231   \n",
              "198  TAPSCR-357704  37.313570 -121.794266                   1231   \n",
              "199  TAPSCR-135308  37.313570 -121.794266                   1231   \n",
              "\n",
              "     REPORTEDLOCATIONFOUND  ... DATEDIMID HOUR  DAYOFWEEKNAME  MONTHNAME  \\\n",
              "0                    False  ...  19820428   12      Wednesday      April   \n",
              "1                    False  ...  19771006   17       Thursday    October   \n",
              "2                    False  ...  19810321    2       Saturday      March   \n",
              "3                    False  ...  20100623    0      Wednesday       June   \n",
              "4                    False  ...  19990827    7         Friday     August   \n",
              "..                     ...  ...       ...  ...            ...        ...   \n",
              "195                  False  ...  19930610   14       Thursday       June   \n",
              "196                  False  ...  19981013   16        Tuesday    October   \n",
              "197                  False  ...  20090207   21       Saturday   February   \n",
              "198                  False  ...  19971114   17         Friday   November   \n",
              "199                  False  ...  19840711    9      Wednesday       July   \n",
              "\n",
              "     YEAR                LASTUPDATE NOTES         ENTERPRISEID  \\\n",
              "0    1982 2022-05-26 18:10:00+00:00        DOT-VZCF-0000095008   \n",
              "1    1977 2022-05-26 18:04:50+00:00        DOT-VZCF-0000012052   \n",
              "2    1981 2022-05-26 18:08:49+00:00        DOT-VZCF-0000076013   \n",
              "3    2010 2022-05-26 19:18:33+00:00        DOT-VZCF-0000553070   \n",
              "4    1999 2022-05-26 18:52:19+00:00        DOT-VZCF-0000386527   \n",
              "..    ...                       ...   ...                  ...   \n",
              "195  1993 2022-05-26 18:38:34+00:00        DOT-VZCF-0000295305   \n",
              "196  1998 2022-05-26 18:51:23+00:00        DOT-VZCF-0000372455   \n",
              "197  2009 2022-05-26 19:19:50+00:00        DOT-VZCF-0000573529   \n",
              "198  1997 2022-05-26 18:50:24+00:00        DOT-VZCF-0000357704   \n",
              "199  1984 2022-05-26 18:20:08+00:00        DOT-VZCF-0000135308   \n",
              "\n",
              "                                   GlobalID INJURYSEVERITY  \n",
              "0    {192040DB-DB5B-4C52-A718-0E0B4DFC490B}           None  \n",
              "1    {0400B518-42B8-4041-84DC-14C4AE474631}         Severe  \n",
              "2    {8CB19B30-8001-4DE0-ACCC-9DEEE236C99B}           None  \n",
              "3    {F2EDF798-FAA0-414D-ABD6-8BF4991867E0}           None  \n",
              "4    {8D5D56A0-9359-48BE-A83E-5AF22BA7C6E2}           None  \n",
              "..                                      ...            ...  \n",
              "195  {20DF008E-56DC-42D0-A078-DF2D32CE7C56}          Minor  \n",
              "196  {A02B7F60-A219-4AC3-B7AD-171BADA864A4}           None  \n",
              "197  {967DC84C-F4EF-4CAA-94D4-FA42594A77CB}           None  \n",
              "198  {47AEA149-1721-44C5-BFBF-D357832FA19D}           None  \n",
              "199  {88ED6316-AF18-42C7-A2FC-09BF38F9F12E}           None  \n",
              "\n",
              "[200 rows x 61 columns]"
            ],
            "text/html": [
              "\n",
              "  <div id=\"df-74300702-0aeb-4d90-a9fd-97e28c2d1fc4\" class=\"colab-df-container\">\n",
              "    <div>\n",
              "<style scoped>\n",
              "    .dataframe tbody tr th:only-of-type {\n",
              "        vertical-align: middle;\n",
              "    }\n",
              "\n",
              "    .dataframe tbody tr th {\n",
              "        vertical-align: top;\n",
              "    }\n",
              "\n",
              "    .dataframe thead th {\n",
              "        text-align: right;\n",
              "    }\n",
              "</style>\n",
              "<table border=\"1\" class=\"dataframe\">\n",
              "  <thead>\n",
              "    <tr style=\"text-align: right;\">\n",
              "      <th></th>\n",
              "      <th>X</th>\n",
              "      <th>Y</th>\n",
              "      <th>DAYNUMBER</th>\n",
              "      <th>NARRATIVE</th>\n",
              "      <th>AGERANGE</th>\n",
              "      <th>CRASHNAME</th>\n",
              "      <th>LATITUDE</th>\n",
              "      <th>LONGITUDE</th>\n",
              "      <th>INTERSECTIONNUMBERINT</th>\n",
              "      <th>REPORTEDLOCATIONFOUND</th>\n",
              "      <th>...</th>\n",
              "      <th>DATEDIMID</th>\n",
              "      <th>HOUR</th>\n",
              "      <th>DAYOFWEEKNAME</th>\n",
              "      <th>MONTHNAME</th>\n",
              "      <th>YEAR</th>\n",
              "      <th>LASTUPDATE</th>\n",
              "      <th>NOTES</th>\n",
              "      <th>ENTERPRISEID</th>\n",
              "      <th>GlobalID</th>\n",
              "      <th>INJURYSEVERITY</th>\n",
              "    </tr>\n",
              "  </thead>\n",
              "  <tbody>\n",
              "    <tr>\n",
              "      <th>0</th>\n",
              "      <td>6.135121e+06</td>\n",
              "      <td>1.929843e+06</td>\n",
              "      <td>28</td>\n",
              "      <td>23 year-old male driver vs 22 year-old male tr...</td>\n",
              "      <td>16-29, 16-29</td>\n",
              "      <td>TAPSCR-95008</td>\n",
              "      <td>37.285709</td>\n",
              "      <td>-121.966229</td>\n",
              "      <td>1044</td>\n",
              "      <td>False</td>\n",
              "      <td>...</td>\n",
              "      <td>19820428</td>\n",
              "      <td>12</td>\n",
              "      <td>Wednesday</td>\n",
              "      <td>April</td>\n",
              "      <td>1982</td>\n",
              "      <td>2022-05-26 18:10:00+00:00</td>\n",
              "      <td></td>\n",
              "      <td>DOT-VZCF-0000095008</td>\n",
              "      <td>{192040DB-DB5B-4C52-A718-0E0B4DFC490B}</td>\n",
              "      <td>None</td>\n",
              "    </tr>\n",
              "    <tr>\n",
              "      <th>1</th>\n",
              "      <td>6.135159e+06</td>\n",
              "      <td>1.929282e+06</td>\n",
              "      <td>6</td>\n",
              "      <td>17 year-old female truck driver vs 21 year-old...</td>\n",
              "      <td>16-29, 16-29</td>\n",
              "      <td>TAPSCR-12052</td>\n",
              "      <td>37.284172</td>\n",
              "      <td>-121.966070</td>\n",
              "      <td>1055</td>\n",
              "      <td>False</td>\n",
              "      <td>...</td>\n",
              "      <td>19771006</td>\n",
              "      <td>17</td>\n",
              "      <td>Thursday</td>\n",
              "      <td>October</td>\n",
              "      <td>1977</td>\n",
              "      <td>2022-05-26 18:04:50+00:00</td>\n",
              "      <td></td>\n",
              "      <td>DOT-VZCF-0000012052</td>\n",
              "      <td>{0400B518-42B8-4041-84DC-14C4AE474631}</td>\n",
              "      <td>Severe</td>\n",
              "    </tr>\n",
              "    <tr>\n",
              "      <th>2</th>\n",
              "      <td>6.135159e+06</td>\n",
              "      <td>1.929282e+06</td>\n",
              "      <td>21</td>\n",
              "      <td>20 year-old female driver vs 22 year-old male ...</td>\n",
              "      <td>16-29, 16-29</td>\n",
              "      <td>TAPSCR-76013</td>\n",
              "      <td>37.284172</td>\n",
              "      <td>-121.966070</td>\n",
              "      <td>1055</td>\n",
              "      <td>False</td>\n",
              "      <td>...</td>\n",
              "      <td>19810321</td>\n",
              "      <td>2</td>\n",
              "      <td>Saturday</td>\n",
              "      <td>March</td>\n",
              "      <td>1981</td>\n",
              "      <td>2022-05-26 18:08:49+00:00</td>\n",
              "      <td></td>\n",
              "      <td>DOT-VZCF-0000076013</td>\n",
              "      <td>{8CB19B30-8001-4DE0-ACCC-9DEEE236C99B}</td>\n",
              "      <td>None</td>\n",
              "    </tr>\n",
              "    <tr>\n",
              "      <th>3</th>\n",
              "      <td>6.135159e+06</td>\n",
              "      <td>1.929282e+06</td>\n",
              "      <td>23</td>\n",
              "      <td>52 year-old male drunk driver vs 2 parked cars</td>\n",
              "      <td>50-64</td>\n",
              "      <td>CR-0000024624</td>\n",
              "      <td>37.284172</td>\n",
              "      <td>-121.966070</td>\n",
              "      <td>1055</td>\n",
              "      <td>False</td>\n",
              "      <td>...</td>\n",
              "      <td>20100623</td>\n",
              "      <td>0</td>\n",
              "      <td>Wednesday</td>\n",
              "      <td>June</td>\n",
              "      <td>2010</td>\n",
              "      <td>2022-05-26 19:18:33+00:00</td>\n",
              "      <td></td>\n",
              "      <td>DOT-VZCF-0000553070</td>\n",
              "      <td>{F2EDF798-FAA0-414D-ABD6-8BF4991867E0}</td>\n",
              "      <td>None</td>\n",
              "    </tr>\n",
              "    <tr>\n",
              "      <th>4</th>\n",
              "      <td>6.135101e+06</td>\n",
              "      <td>1.930220e+06</td>\n",
              "      <td>27</td>\n",
              "      <td>29 year-old female driver vs unspecified truck...</td>\n",
              "      <td>16-29</td>\n",
              "      <td>TAPSCR-386527</td>\n",
              "      <td>37.286744</td>\n",
              "      <td>-121.966319</td>\n",
              "      <td>1066</td>\n",
              "      <td>False</td>\n",
              "      <td>...</td>\n",
              "      <td>19990827</td>\n",
              "      <td>7</td>\n",
              "      <td>Friday</td>\n",
              "      <td>August</td>\n",
              "      <td>1999</td>\n",
              "      <td>2022-05-26 18:52:19+00:00</td>\n",
              "      <td></td>\n",
              "      <td>DOT-VZCF-0000386527</td>\n",
              "      <td>{8D5D56A0-9359-48BE-A83E-5AF22BA7C6E2}</td>\n",
              "      <td>None</td>\n",
              "    </tr>\n",
              "    <tr>\n",
              "      <th>...</th>\n",
              "      <td>...</td>\n",
              "      <td>...</td>\n",
              "      <td>...</td>\n",
              "      <td>...</td>\n",
              "      <td>...</td>\n",
              "      <td>...</td>\n",
              "      <td>...</td>\n",
              "      <td>...</td>\n",
              "      <td>...</td>\n",
              "      <td>...</td>\n",
              "      <td>...</td>\n",
              "      <td>...</td>\n",
              "      <td>...</td>\n",
              "      <td>...</td>\n",
              "      <td>...</td>\n",
              "      <td>...</td>\n",
              "      <td>...</td>\n",
              "      <td>...</td>\n",
              "      <td>...</td>\n",
              "      <td>...</td>\n",
              "      <td>...</td>\n",
              "    </tr>\n",
              "    <tr>\n",
              "      <th>195</th>\n",
              "      <td>6.185284e+06</td>\n",
              "      <td>1.939248e+06</td>\n",
              "      <td>10</td>\n",
              "      <td>22 year-old female driver vs 19 year-old male ...</td>\n",
              "      <td>16-29, 16-29</td>\n",
              "      <td>TAPSCR-295305</td>\n",
              "      <td>37.313570</td>\n",
              "      <td>-121.794266</td>\n",
              "      <td>1231</td>\n",
              "      <td>False</td>\n",
              "      <td>...</td>\n",
              "      <td>19930610</td>\n",
              "      <td>14</td>\n",
              "      <td>Thursday</td>\n",
              "      <td>June</td>\n",
              "      <td>1993</td>\n",
              "      <td>2022-05-26 18:38:34+00:00</td>\n",
              "      <td></td>\n",
              "      <td>DOT-VZCF-0000295305</td>\n",
              "      <td>{20DF008E-56DC-42D0-A078-DF2D32CE7C56}</td>\n",
              "      <td>Minor</td>\n",
              "    </tr>\n",
              "    <tr>\n",
              "      <th>196</th>\n",
              "      <td>6.185284e+06</td>\n",
              "      <td>1.939248e+06</td>\n",
              "      <td>13</td>\n",
              "      <td>73 year-old female driver vs 21 year-old femal...</td>\n",
              "      <td>65 plus, 16-29</td>\n",
              "      <td>TAPSCR-372455</td>\n",
              "      <td>37.313570</td>\n",
              "      <td>-121.794266</td>\n",
              "      <td>1231</td>\n",
              "      <td>False</td>\n",
              "      <td>...</td>\n",
              "      <td>19981013</td>\n",
              "      <td>16</td>\n",
              "      <td>Tuesday</td>\n",
              "      <td>October</td>\n",
              "      <td>1998</td>\n",
              "      <td>2022-05-26 18:51:23+00:00</td>\n",
              "      <td></td>\n",
              "      <td>DOT-VZCF-0000372455</td>\n",
              "      <td>{A02B7F60-A219-4AC3-B7AD-171BADA864A4}</td>\n",
              "      <td>None</td>\n",
              "    </tr>\n",
              "    <tr>\n",
              "      <th>197</th>\n",
              "      <td>6.185284e+06</td>\n",
              "      <td>1.939248e+06</td>\n",
              "      <td>7</td>\n",
              "      <td>Unspecified hit-and-run driver vs object</td>\n",
              "      <td>None</td>\n",
              "      <td>CR-0000011614</td>\n",
              "      <td>37.313570</td>\n",
              "      <td>-121.794266</td>\n",
              "      <td>1231</td>\n",
              "      <td>False</td>\n",
              "      <td>...</td>\n",
              "      <td>20090207</td>\n",
              "      <td>21</td>\n",
              "      <td>Saturday</td>\n",
              "      <td>February</td>\n",
              "      <td>2009</td>\n",
              "      <td>2022-05-26 19:19:50+00:00</td>\n",
              "      <td></td>\n",
              "      <td>DOT-VZCF-0000573529</td>\n",
              "      <td>{967DC84C-F4EF-4CAA-94D4-FA42594A77CB}</td>\n",
              "      <td>None</td>\n",
              "    </tr>\n",
              "    <tr>\n",
              "      <th>198</th>\n",
              "      <td>6.185284e+06</td>\n",
              "      <td>1.939248e+06</td>\n",
              "      <td>14</td>\n",
              "      <td>58 year-old female driver vs 37 year-old femal...</td>\n",
              "      <td>50-64, 30-49</td>\n",
              "      <td>TAPSCR-357704</td>\n",
              "      <td>37.313570</td>\n",
              "      <td>-121.794266</td>\n",
              "      <td>1231</td>\n",
              "      <td>False</td>\n",
              "      <td>...</td>\n",
              "      <td>19971114</td>\n",
              "      <td>17</td>\n",
              "      <td>Friday</td>\n",
              "      <td>November</td>\n",
              "      <td>1997</td>\n",
              "      <td>2022-05-26 18:50:24+00:00</td>\n",
              "      <td></td>\n",
              "      <td>DOT-VZCF-0000357704</td>\n",
              "      <td>{47AEA149-1721-44C5-BFBF-D357832FA19D}</td>\n",
              "      <td>None</td>\n",
              "    </tr>\n",
              "    <tr>\n",
              "      <th>199</th>\n",
              "      <td>6.185284e+06</td>\n",
              "      <td>1.939248e+06</td>\n",
              "      <td>11</td>\n",
              "      <td>42 year-old female driver vs unspecified driver</td>\n",
              "      <td>30-49, 50-64</td>\n",
              "      <td>TAPSCR-135308</td>\n",
              "      <td>37.313570</td>\n",
              "      <td>-121.794266</td>\n",
              "      <td>1231</td>\n",
              "      <td>False</td>\n",
              "      <td>...</td>\n",
              "      <td>19840711</td>\n",
              "      <td>9</td>\n",
              "      <td>Wednesday</td>\n",
              "      <td>July</td>\n",
              "      <td>1984</td>\n",
              "      <td>2022-05-26 18:20:08+00:00</td>\n",
              "      <td></td>\n",
              "      <td>DOT-VZCF-0000135308</td>\n",
              "      <td>{88ED6316-AF18-42C7-A2FC-09BF38F9F12E}</td>\n",
              "      <td>None</td>\n",
              "    </tr>\n",
              "  </tbody>\n",
              "</table>\n",
              "<p>200 rows × 61 columns</p>\n",
              "</div>\n",
              "    <div class=\"colab-df-buttons\">\n",
              "\n",
              "  <div class=\"colab-df-container\">\n",
              "    <button class=\"colab-df-convert\" onclick=\"convertToInteractive('df-74300702-0aeb-4d90-a9fd-97e28c2d1fc4')\"\n",
              "            title=\"Convert this dataframe to an interactive table.\"\n",
              "            style=\"display:none;\">\n",
              "\n",
              "  <svg xmlns=\"http://www.w3.org/2000/svg\" height=\"24px\" viewBox=\"0 -960 960 960\">\n",
              "    <path d=\"M120-120v-720h720v720H120Zm60-500h600v-160H180v160Zm220 220h160v-160H400v160Zm0 220h160v-160H400v160ZM180-400h160v-160H180v160Zm440 0h160v-160H620v160ZM180-180h160v-160H180v160Zm440 0h160v-160H620v160Z\"/>\n",
              "  </svg>\n",
              "    </button>\n",
              "\n",
              "  <style>\n",
              "    .colab-df-container {\n",
              "      display:flex;\n",
              "      gap: 12px;\n",
              "    }\n",
              "\n",
              "    .colab-df-convert {\n",
              "      background-color: #E8F0FE;\n",
              "      border: none;\n",
              "      border-radius: 50%;\n",
              "      cursor: pointer;\n",
              "      display: none;\n",
              "      fill: #1967D2;\n",
              "      height: 32px;\n",
              "      padding: 0 0 0 0;\n",
              "      width: 32px;\n",
              "    }\n",
              "\n",
              "    .colab-df-convert:hover {\n",
              "      background-color: #E2EBFA;\n",
              "      box-shadow: 0px 1px 2px rgba(60, 64, 67, 0.3), 0px 1px 3px 1px rgba(60, 64, 67, 0.15);\n",
              "      fill: #174EA6;\n",
              "    }\n",
              "\n",
              "    .colab-df-buttons div {\n",
              "      margin-bottom: 4px;\n",
              "    }\n",
              "\n",
              "    [theme=dark] .colab-df-convert {\n",
              "      background-color: #3B4455;\n",
              "      fill: #D2E3FC;\n",
              "    }\n",
              "\n",
              "    [theme=dark] .colab-df-convert:hover {\n",
              "      background-color: #434B5C;\n",
              "      box-shadow: 0px 1px 3px 1px rgba(0, 0, 0, 0.15);\n",
              "      filter: drop-shadow(0px 1px 2px rgba(0, 0, 0, 0.3));\n",
              "      fill: #FFFFFF;\n",
              "    }\n",
              "  </style>\n",
              "\n",
              "    <script>\n",
              "      const buttonEl =\n",
              "        document.querySelector('#df-74300702-0aeb-4d90-a9fd-97e28c2d1fc4 button.colab-df-convert');\n",
              "      buttonEl.style.display =\n",
              "        google.colab.kernel.accessAllowed ? 'block' : 'none';\n",
              "\n",
              "      async function convertToInteractive(key) {\n",
              "        const element = document.querySelector('#df-74300702-0aeb-4d90-a9fd-97e28c2d1fc4');\n",
              "        const dataTable =\n",
              "          await google.colab.kernel.invokeFunction('convertToInteractive',\n",
              "                                                    [key], {});\n",
              "        if (!dataTable) return;\n",
              "\n",
              "        const docLinkHtml = 'Like what you see? Visit the ' +\n",
              "          '<a target=\"_blank\" href=https://colab.research.google.com/notebooks/data_table.ipynb>data table notebook</a>'\n",
              "          + ' to learn more about interactive tables.';\n",
              "        element.innerHTML = '';\n",
              "        dataTable['output_type'] = 'display_data';\n",
              "        await google.colab.output.renderOutput(dataTable, element);\n",
              "        const docLink = document.createElement('div');\n",
              "        docLink.innerHTML = docLinkHtml;\n",
              "        element.appendChild(docLink);\n",
              "      }\n",
              "    </script>\n",
              "  </div>\n",
              "\n",
              "\n",
              "<div id=\"df-804f9974-0b2d-401a-bf0a-e97f03ea5639\">\n",
              "  <button class=\"colab-df-quickchart\" onclick=\"quickchart('df-804f9974-0b2d-401a-bf0a-e97f03ea5639')\"\n",
              "            title=\"Suggest charts\"\n",
              "            style=\"display:none;\">\n",
              "\n",
              "<svg xmlns=\"http://www.w3.org/2000/svg\" height=\"24px\"viewBox=\"0 0 24 24\"\n",
              "     width=\"24px\">\n",
              "    <g>\n",
              "        <path d=\"M19 3H5c-1.1 0-2 .9-2 2v14c0 1.1.9 2 2 2h14c1.1 0 2-.9 2-2V5c0-1.1-.9-2-2-2zM9 17H7v-7h2v7zm4 0h-2V7h2v10zm4 0h-2v-4h2v4z\"/>\n",
              "    </g>\n",
              "</svg>\n",
              "  </button>\n",
              "\n",
              "<style>\n",
              "  .colab-df-quickchart {\n",
              "      --bg-color: #E8F0FE;\n",
              "      --fill-color: #1967D2;\n",
              "      --hover-bg-color: #E2EBFA;\n",
              "      --hover-fill-color: #174EA6;\n",
              "      --disabled-fill-color: #AAA;\n",
              "      --disabled-bg-color: #DDD;\n",
              "  }\n",
              "\n",
              "  [theme=dark] .colab-df-quickchart {\n",
              "      --bg-color: #3B4455;\n",
              "      --fill-color: #D2E3FC;\n",
              "      --hover-bg-color: #434B5C;\n",
              "      --hover-fill-color: #FFFFFF;\n",
              "      --disabled-bg-color: #3B4455;\n",
              "      --disabled-fill-color: #666;\n",
              "  }\n",
              "\n",
              "  .colab-df-quickchart {\n",
              "    background-color: var(--bg-color);\n",
              "    border: none;\n",
              "    border-radius: 50%;\n",
              "    cursor: pointer;\n",
              "    display: none;\n",
              "    fill: var(--fill-color);\n",
              "    height: 32px;\n",
              "    padding: 0;\n",
              "    width: 32px;\n",
              "  }\n",
              "\n",
              "  .colab-df-quickchart:hover {\n",
              "    background-color: var(--hover-bg-color);\n",
              "    box-shadow: 0 1px 2px rgba(60, 64, 67, 0.3), 0 1px 3px 1px rgba(60, 64, 67, 0.15);\n",
              "    fill: var(--button-hover-fill-color);\n",
              "  }\n",
              "\n",
              "  .colab-df-quickchart-complete:disabled,\n",
              "  .colab-df-quickchart-complete:disabled:hover {\n",
              "    background-color: var(--disabled-bg-color);\n",
              "    fill: var(--disabled-fill-color);\n",
              "    box-shadow: none;\n",
              "  }\n",
              "\n",
              "  .colab-df-spinner {\n",
              "    border: 2px solid var(--fill-color);\n",
              "    border-color: transparent;\n",
              "    border-bottom-color: var(--fill-color);\n",
              "    animation:\n",
              "      spin 1s steps(1) infinite;\n",
              "  }\n",
              "\n",
              "  @keyframes spin {\n",
              "    0% {\n",
              "      border-color: transparent;\n",
              "      border-bottom-color: var(--fill-color);\n",
              "      border-left-color: var(--fill-color);\n",
              "    }\n",
              "    20% {\n",
              "      border-color: transparent;\n",
              "      border-left-color: var(--fill-color);\n",
              "      border-top-color: var(--fill-color);\n",
              "    }\n",
              "    30% {\n",
              "      border-color: transparent;\n",
              "      border-left-color: var(--fill-color);\n",
              "      border-top-color: var(--fill-color);\n",
              "      border-right-color: var(--fill-color);\n",
              "    }\n",
              "    40% {\n",
              "      border-color: transparent;\n",
              "      border-right-color: var(--fill-color);\n",
              "      border-top-color: var(--fill-color);\n",
              "    }\n",
              "    60% {\n",
              "      border-color: transparent;\n",
              "      border-right-color: var(--fill-color);\n",
              "    }\n",
              "    80% {\n",
              "      border-color: transparent;\n",
              "      border-right-color: var(--fill-color);\n",
              "      border-bottom-color: var(--fill-color);\n",
              "    }\n",
              "    90% {\n",
              "      border-color: transparent;\n",
              "      border-bottom-color: var(--fill-color);\n",
              "    }\n",
              "  }\n",
              "</style>\n",
              "\n",
              "  <script>\n",
              "    async function quickchart(key) {\n",
              "      const quickchartButtonEl =\n",
              "        document.querySelector('#' + key + ' button');\n",
              "      quickchartButtonEl.disabled = true;  // To prevent multiple clicks.\n",
              "      quickchartButtonEl.classList.add('colab-df-spinner');\n",
              "      try {\n",
              "        const charts = await google.colab.kernel.invokeFunction(\n",
              "            'suggestCharts', [key], {});\n",
              "      } catch (error) {\n",
              "        console.error('Error during call to suggestCharts:', error);\n",
              "      }\n",
              "      quickchartButtonEl.classList.remove('colab-df-spinner');\n",
              "      quickchartButtonEl.classList.add('colab-df-quickchart-complete');\n",
              "    }\n",
              "    (() => {\n",
              "      let quickchartButtonEl =\n",
              "        document.querySelector('#df-804f9974-0b2d-401a-bf0a-e97f03ea5639 button');\n",
              "      quickchartButtonEl.style.display =\n",
              "        google.colab.kernel.accessAllowed ? 'block' : 'none';\n",
              "    })();\n",
              "  </script>\n",
              "</div>\n",
              "\n",
              "    </div>\n",
              "  </div>\n"
            ],
            "application/vnd.google.colaboratory.intrinsic+json": {
              "type": "dataframe",
              "variable_name": "df_natality"
            }
          },
          "metadata": {},
          "execution_count": 9
        }
      ]
    },
    {
      "cell_type": "code",
      "source": [
        "# fetch the dataset info\n",
        "df = df_natality\n",
        "df.info()"
      ],
      "metadata": {
        "colab": {
          "base_uri": "https://localhost:8080/"
        },
        "collapsed": true,
        "id": "aNDHqs706MDm",
        "outputId": "476d69c4-bd3f-4096-fddd-bb6c6af89f94"
      },
      "execution_count": 10,
      "outputs": [
        {
          "output_type": "stream",
          "name": "stdout",
          "text": [
            "<class 'pandas.core.frame.DataFrame'>\n",
            "RangeIndex: 598863 entries, 0 to 598862\n",
            "Data columns (total 61 columns):\n",
            " #   Column                           Non-Null Count   Dtype              \n",
            "---  ------                           --------------   -----              \n",
            " 0   X                                598863 non-null  float64            \n",
            " 1   Y                                598863 non-null  float64            \n",
            " 2   DAYNUMBER                        598863 non-null  Int64              \n",
            " 3   NARRATIVE                        598842 non-null  object             \n",
            " 4   AGERANGE                         541776 non-null  object             \n",
            " 5   CRASHNAME                        598863 non-null  object             \n",
            " 6   LATITUDE                         598863 non-null  float64            \n",
            " 7   LONGITUDE                        598863 non-null  float64            \n",
            " 8   INTERSECTIONNUMBERINT            598863 non-null  Int64              \n",
            " 9   REPORTEDLOCATIONFOUND            598863 non-null  boolean            \n",
            " 10  SPEEDINGFLAG                     12560 non-null   object             \n",
            " 11  HITANDRUNFLAG                    12560 non-null   object             \n",
            " 12  OBJECTID                         598863 non-null  Int64              \n",
            " 13  FACILITYID                       595864 non-null  Int64              \n",
            " 14  INTID                            595864 non-null  Int64              \n",
            " 15  TCRNUMBER                        598863 non-null  object             \n",
            " 16  CRASHDATETIME                    598863 non-null  datetime64[us, UTC]\n",
            " 17  CRASHDATETIMEUTC                 598863 non-null  datetime64[us, UTC]\n",
            " 18  VEHICLECOUNT                     598842 non-null  Int64              \n",
            " 19  VEHICLEPARTYCATEGORY             598842 non-null  object             \n",
            " 20  VEHICLEVIOLATIONCODEDESCRIPTION  598842 non-null  object             \n",
            " 21  VEHICLEDAMAGE                    598842 non-null  object             \n",
            " 22  VEHICLEDRIVERINTOXICATED         3316 non-null    object             \n",
            " 23  MINORINJURIES                    598863 non-null  Int64              \n",
            " 24  MODERATEINJURIES                 598863 non-null  Int64              \n",
            " 25  SEVEREINJURIES                   598863 non-null  Int64              \n",
            " 26  FATALINJURIES                    598863 non-null  Int64              \n",
            " 27  CITYDAMAGEFLAG                   598861 non-null  boolean            \n",
            " 28  SHORTFORMFLAG                    598859 non-null  boolean            \n",
            " 29  ROADWAYSURFACE                   598863 non-null  object             \n",
            " 30  ROADWAYCONDITION                 598863 non-null  object             \n",
            " 31  LIGHTING                         598863 non-null  object             \n",
            " 32  PRIMARYCOLLISIONFACTOR           598863 non-null  object             \n",
            " 33  WEATHER                          598863 non-null  object             \n",
            " 34  COLLISIONTYPE                    598863 non-null  object             \n",
            " 35  VEHICLEINVOLVEDWITH              598863 non-null  object             \n",
            " 36  PEDESTRIANACTION                 598863 non-null  object             \n",
            " 37  PEDESTRIANDIRECTIONFROM          598863 non-null  object             \n",
            " 38  PEDESTRIANDIRECTIONTO            598863 non-null  object             \n",
            " 39  DISTANCE                         597242 non-null  Int64              \n",
            " 40  DIRECTIONFROMINTERSECTION        598863 non-null  object             \n",
            " 41  PROXIMITYTOINTERSECTION          598863 non-null  object             \n",
            " 42  TRAFFICCONTROL                   598863 non-null  object             \n",
            " 43  INTASTREETNAME                   598863 non-null  object             \n",
            " 44  INTBSTREETNAME                   598863 non-null  object             \n",
            " 45  INTASTREETTYPE                   598863 non-null  object             \n",
            " 46  INTBSTREETTYPE                   598863 non-null  object             \n",
            " 47  INTERSECTIONTYPE                 596759 non-null  object             \n",
            " 48  INTTRAFFICCONTROLTYPE            598859 non-null  object             \n",
            " 49  INTERSECTIONNUMBER               598863 non-null  Int64              \n",
            " 50  INTERSECTIONDIMID                598863 non-null  Int64              \n",
            " 51  DATEDIMID                        598863 non-null  Int64              \n",
            " 52  HOUR                             598863 non-null  Int64              \n",
            " 53  DAYOFWEEKNAME                    598863 non-null  object             \n",
            " 54  MONTHNAME                        598863 non-null  object             \n",
            " 55  YEAR                             598863 non-null  Int64              \n",
            " 56  LASTUPDATE                       598863 non-null  datetime64[us, UTC]\n",
            " 57  NOTES                            592135 non-null  object             \n",
            " 58  ENTERPRISEID                     595864 non-null  object             \n",
            " 59  GlobalID                         598863 non-null  object             \n",
            " 60  INJURYSEVERITY                   176369 non-null  object             \n",
            "dtypes: Int64(16), boolean(3), datetime64[us, UTC](3), float64(4), object(35)\n",
            "memory usage: 277.6+ MB\n"
          ]
        }
      ]
    },
    {
      "cell_type": "markdown",
      "source": [
        "# 3. Data Processing"
      ],
      "metadata": {
        "id": "eFWh8xvYRCN4"
      }
    },
    {
      "cell_type": "code",
      "source": [
        "# find the missing values from all the columns\n",
        "missing_values = df.isnull().sum()\n",
        "print(missing_values)"
      ],
      "metadata": {
        "colab": {
          "base_uri": "https://localhost:8080/"
        },
        "collapsed": true,
        "id": "0RUn2NBuSGk8",
        "outputId": "75292c69-7157-486b-bd47-41ba9732c447"
      },
      "execution_count": 11,
      "outputs": [
        {
          "output_type": "stream",
          "name": "stdout",
          "text": [
            "X                      0\n",
            "Y                      0\n",
            "DAYNUMBER              0\n",
            "NARRATIVE             21\n",
            "AGERANGE           57087\n",
            "                   ...  \n",
            "LASTUPDATE             0\n",
            "NOTES               6728\n",
            "ENTERPRISEID        2999\n",
            "GlobalID               0\n",
            "INJURYSEVERITY    422494\n",
            "Length: 61, dtype: int64\n"
          ]
        }
      ]
    },
    {
      "cell_type": "code",
      "source": [
        "df.columns"
      ],
      "metadata": {
        "colab": {
          "base_uri": "https://localhost:8080/"
        },
        "id": "_RfbRX2KnCKR",
        "outputId": "1a42f912-ad06-435f-8c39-785c3fd70567"
      },
      "execution_count": 12,
      "outputs": [
        {
          "output_type": "execute_result",
          "data": {
            "text/plain": [
              "Index(['X', 'Y', 'DAYNUMBER', 'NARRATIVE', 'AGERANGE', 'CRASHNAME', 'LATITUDE',\n",
              "       'LONGITUDE', 'INTERSECTIONNUMBERINT', 'REPORTEDLOCATIONFOUND',\n",
              "       'SPEEDINGFLAG', 'HITANDRUNFLAG', 'OBJECTID', 'FACILITYID', 'INTID',\n",
              "       'TCRNUMBER', 'CRASHDATETIME', 'CRASHDATETIMEUTC', 'VEHICLECOUNT',\n",
              "       'VEHICLEPARTYCATEGORY', 'VEHICLEVIOLATIONCODEDESCRIPTION',\n",
              "       'VEHICLEDAMAGE', 'VEHICLEDRIVERINTOXICATED', 'MINORINJURIES',\n",
              "       'MODERATEINJURIES', 'SEVEREINJURIES', 'FATALINJURIES', 'CITYDAMAGEFLAG',\n",
              "       'SHORTFORMFLAG', 'ROADWAYSURFACE', 'ROADWAYCONDITION', 'LIGHTING',\n",
              "       'PRIMARYCOLLISIONFACTOR', 'WEATHER', 'COLLISIONTYPE',\n",
              "       'VEHICLEINVOLVEDWITH', 'PEDESTRIANACTION', 'PEDESTRIANDIRECTIONFROM',\n",
              "       'PEDESTRIANDIRECTIONTO', 'DISTANCE', 'DIRECTIONFROMINTERSECTION',\n",
              "       'PROXIMITYTOINTERSECTION', 'TRAFFICCONTROL', 'INTASTREETNAME',\n",
              "       'INTBSTREETNAME', 'INTASTREETTYPE', 'INTBSTREETTYPE',\n",
              "       'INTERSECTIONTYPE', 'INTTRAFFICCONTROLTYPE', 'INTERSECTIONNUMBER',\n",
              "       'INTERSECTIONDIMID', 'DATEDIMID', 'HOUR', 'DAYOFWEEKNAME', 'MONTHNAME',\n",
              "       'YEAR', 'LASTUPDATE', 'NOTES', 'ENTERPRISEID', 'GlobalID',\n",
              "       'INJURYSEVERITY'],\n",
              "      dtype='object')"
            ]
          },
          "metadata": {},
          "execution_count": 12
        }
      ]
    },
    {
      "cell_type": "code",
      "source": [
        "# retiaining the main features from the dataset\n",
        "columns_to_keep = [\n",
        "    \"LATITUDE\", \"LONGITUDE\", \"INTERSECTIONNUMBERINT\",\n",
        "    \"HOUR\", \"DAYOFWEEKNAME\", \"MONTHNAME\", \"YEAR\", \"DATEDIMID\",\n",
        "    \"MINORINJURIES\", \"MODERATEINJURIES\",\n",
        "    \"SEVEREINJURIES\", \"FATALINJURIES\",\n",
        "    \"VEHICLECOUNT\",\n",
        "    \"COLLISIONTYPE\", \"ROADWAYSURFACE\", \"ROADWAYCONDITION\", \"LIGHTING\", \"WEATHER\", \"TRAFFICCONTROL\"\n",
        "]\n",
        "\n",
        "df = df[columns_to_keep]"
      ],
      "metadata": {
        "id": "GXt70HGolc-y"
      },
      "execution_count": 13,
      "outputs": []
    },
    {
      "cell_type": "code",
      "source": [
        "df.isnull().sum()"
      ],
      "metadata": {
        "colab": {
          "base_uri": "https://localhost:8080/",
          "height": 680
        },
        "id": "2OlYJ0jRm5fV",
        "outputId": "e2b2def3-8b8c-406f-df89-3eb5897d0aa5"
      },
      "execution_count": 14,
      "outputs": [
        {
          "output_type": "execute_result",
          "data": {
            "text/plain": [
              "LATITUDE                  0\n",
              "LONGITUDE                 0\n",
              "INTERSECTIONNUMBERINT     0\n",
              "HOUR                      0\n",
              "DAYOFWEEKNAME             0\n",
              "MONTHNAME                 0\n",
              "YEAR                      0\n",
              "DATEDIMID                 0\n",
              "MINORINJURIES             0\n",
              "MODERATEINJURIES          0\n",
              "SEVEREINJURIES            0\n",
              "FATALINJURIES             0\n",
              "VEHICLECOUNT             21\n",
              "COLLISIONTYPE             0\n",
              "ROADWAYSURFACE            0\n",
              "ROADWAYCONDITION          0\n",
              "LIGHTING                  0\n",
              "WEATHER                   0\n",
              "TRAFFICCONTROL            0\n",
              "dtype: int64"
            ],
            "text/html": [
              "<div>\n",
              "<style scoped>\n",
              "    .dataframe tbody tr th:only-of-type {\n",
              "        vertical-align: middle;\n",
              "    }\n",
              "\n",
              "    .dataframe tbody tr th {\n",
              "        vertical-align: top;\n",
              "    }\n",
              "\n",
              "    .dataframe thead th {\n",
              "        text-align: right;\n",
              "    }\n",
              "</style>\n",
              "<table border=\"1\" class=\"dataframe\">\n",
              "  <thead>\n",
              "    <tr style=\"text-align: right;\">\n",
              "      <th></th>\n",
              "      <th>0</th>\n",
              "    </tr>\n",
              "  </thead>\n",
              "  <tbody>\n",
              "    <tr>\n",
              "      <th>LATITUDE</th>\n",
              "      <td>0</td>\n",
              "    </tr>\n",
              "    <tr>\n",
              "      <th>LONGITUDE</th>\n",
              "      <td>0</td>\n",
              "    </tr>\n",
              "    <tr>\n",
              "      <th>INTERSECTIONNUMBERINT</th>\n",
              "      <td>0</td>\n",
              "    </tr>\n",
              "    <tr>\n",
              "      <th>HOUR</th>\n",
              "      <td>0</td>\n",
              "    </tr>\n",
              "    <tr>\n",
              "      <th>DAYOFWEEKNAME</th>\n",
              "      <td>0</td>\n",
              "    </tr>\n",
              "    <tr>\n",
              "      <th>MONTHNAME</th>\n",
              "      <td>0</td>\n",
              "    </tr>\n",
              "    <tr>\n",
              "      <th>YEAR</th>\n",
              "      <td>0</td>\n",
              "    </tr>\n",
              "    <tr>\n",
              "      <th>DATEDIMID</th>\n",
              "      <td>0</td>\n",
              "    </tr>\n",
              "    <tr>\n",
              "      <th>MINORINJURIES</th>\n",
              "      <td>0</td>\n",
              "    </tr>\n",
              "    <tr>\n",
              "      <th>MODERATEINJURIES</th>\n",
              "      <td>0</td>\n",
              "    </tr>\n",
              "    <tr>\n",
              "      <th>SEVEREINJURIES</th>\n",
              "      <td>0</td>\n",
              "    </tr>\n",
              "    <tr>\n",
              "      <th>FATALINJURIES</th>\n",
              "      <td>0</td>\n",
              "    </tr>\n",
              "    <tr>\n",
              "      <th>VEHICLECOUNT</th>\n",
              "      <td>21</td>\n",
              "    </tr>\n",
              "    <tr>\n",
              "      <th>COLLISIONTYPE</th>\n",
              "      <td>0</td>\n",
              "    </tr>\n",
              "    <tr>\n",
              "      <th>ROADWAYSURFACE</th>\n",
              "      <td>0</td>\n",
              "    </tr>\n",
              "    <tr>\n",
              "      <th>ROADWAYCONDITION</th>\n",
              "      <td>0</td>\n",
              "    </tr>\n",
              "    <tr>\n",
              "      <th>LIGHTING</th>\n",
              "      <td>0</td>\n",
              "    </tr>\n",
              "    <tr>\n",
              "      <th>WEATHER</th>\n",
              "      <td>0</td>\n",
              "    </tr>\n",
              "    <tr>\n",
              "      <th>TRAFFICCONTROL</th>\n",
              "      <td>0</td>\n",
              "    </tr>\n",
              "  </tbody>\n",
              "</table>\n",
              "</div><br><label><b>dtype:</b> int64</label>"
            ]
          },
          "metadata": {},
          "execution_count": 14
        }
      ]
    },
    {
      "cell_type": "code",
      "source": [
        "#Handling the missing values from the data\n",
        "df['VEHICLECOUNT'].fillna(0, inplace=True)"
      ],
      "metadata": {
        "colab": {
          "base_uri": "https://localhost:8080/"
        },
        "collapsed": true,
        "id": "uYeqFLFgnvjH",
        "outputId": "668390a5-55fa-49a5-84e0-cd7925581707"
      },
      "execution_count": 15,
      "outputs": [
        {
          "output_type": "stream",
          "name": "stderr",
          "text": [
            "<ipython-input-15-e567eed53502>:2: FutureWarning: A value is trying to be set on a copy of a DataFrame or Series through chained assignment using an inplace method.\n",
            "The behavior will change in pandas 3.0. This inplace method will never work because the intermediate object on which we are setting values always behaves as a copy.\n",
            "\n",
            "For example, when doing 'df[col].method(value, inplace=True)', try using 'df.method({col: value}, inplace=True)' or df[col] = df[col].method(value) instead, to perform the operation inplace on the original object.\n",
            "\n",
            "\n",
            "  df['VEHICLECOUNT'].fillna(0, inplace=True)\n",
            "<ipython-input-15-e567eed53502>:2: SettingWithCopyWarning: \n",
            "A value is trying to be set on a copy of a slice from a DataFrame\n",
            "\n",
            "See the caveats in the documentation: https://pandas.pydata.org/pandas-docs/stable/user_guide/indexing.html#returning-a-view-versus-a-copy\n",
            "  df['VEHICLECOUNT'].fillna(0, inplace=True)\n"
          ]
        }
      ]
    },
    {
      "cell_type": "code",
      "source": [
        "import pandas as pd\n",
        "\n",
        "# Convert 'DATEDIMID' to datetime format\n",
        "df['DATEDIMID'] = pd.to_datetime(df['DATEDIMID'], format='%Y%m%d')\n",
        "df['HOUR_BUCKET'] = pd.cut(df['HOUR'], bins=[0, 6, 12, 18, 24], labels=['Night', 'Morning', 'Afternoon', 'Evening'])"
      ],
      "metadata": {
        "colab": {
          "base_uri": "https://localhost:8080/"
        },
        "id": "_FnuR0iVotVz",
        "outputId": "545ccbff-d5c2-4c34-d4bc-774333f35ff3"
      },
      "execution_count": 16,
      "outputs": [
        {
          "output_type": "stream",
          "name": "stderr",
          "text": [
            "<ipython-input-16-c5dd6225e5b1>:4: SettingWithCopyWarning: \n",
            "A value is trying to be set on a copy of a slice from a DataFrame.\n",
            "Try using .loc[row_indexer,col_indexer] = value instead\n",
            "\n",
            "See the caveats in the documentation: https://pandas.pydata.org/pandas-docs/stable/user_guide/indexing.html#returning-a-view-versus-a-copy\n",
            "  df['DATEDIMID'] = pd.to_datetime(df['DATEDIMID'], format='%Y%m%d')\n",
            "<ipython-input-16-c5dd6225e5b1>:5: SettingWithCopyWarning: \n",
            "A value is trying to be set on a copy of a slice from a DataFrame.\n",
            "Try using .loc[row_indexer,col_indexer] = value instead\n",
            "\n",
            "See the caveats in the documentation: https://pandas.pydata.org/pandas-docs/stable/user_guide/indexing.html#returning-a-view-versus-a-copy\n",
            "  df['HOUR_BUCKET'] = pd.cut(df['HOUR'], bins=[0, 6, 12, 18, 24], labels=['Night', 'Morning', 'Afternoon', 'Evening'])\n"
          ]
        }
      ]
    },
    {
      "cell_type": "code",
      "source": [
        "def categorize_severity(row):\n",
        "    if row['FATALINJURIES'] > 0 or row['SEVEREINJURIES'] > 0:\n",
        "        return 'High'\n",
        "    elif row['MODERATEINJURIES'] > 0:\n",
        "        return 'Medium'\n",
        "    elif row['MINORINJURIES'] > 0:\n",
        "        return 'Low'\n",
        "    return 'Unknown'\n",
        "\n",
        "df['SEVERITY_CATEGORY'] = df.apply(categorize_severity, axis=1)"
      ],
      "metadata": {
        "colab": {
          "base_uri": "https://localhost:8080/"
        },
        "id": "o7cOBCzGrFn5",
        "outputId": "6ce4b320-e683-4c1a-f33f-7086e4b8f0ce"
      },
      "execution_count": 17,
      "outputs": [
        {
          "output_type": "stream",
          "name": "stderr",
          "text": [
            "<ipython-input-17-d4a5661a359a>:10: SettingWithCopyWarning: \n",
            "A value is trying to be set on a copy of a slice from a DataFrame.\n",
            "Try using .loc[row_indexer,col_indexer] = value instead\n",
            "\n",
            "See the caveats in the documentation: https://pandas.pydata.org/pandas-docs/stable/user_guide/indexing.html#returning-a-view-versus-a-copy\n",
            "  df['SEVERITY_CATEGORY'] = df.apply(categorize_severity, axis=1)\n"
          ]
        }
      ]
    },
    {
      "cell_type": "markdown",
      "source": [
        "# 4. Exploratory Data Analysis"
      ],
      "metadata": {
        "id": "smmNTmRwRmYn"
      }
    },
    {
      "cell_type": "code",
      "source": [
        "import matplotlib.pyplot as plt\n",
        "\n",
        "# crashes over the time\n",
        "df.groupby('YEAR').size().plot(kind='bar', color='skyblue', figsize=(10,5))\n",
        "plt.title(\"Number of Crashes per Year\")\n",
        "plt.xlabel(\"Year\")\n",
        "plt.ylabel(\"Crash Count\")\n",
        "plt.show()"
      ],
      "metadata": {
        "colab": {
          "base_uri": "https://localhost:8080/",
          "height": 509
        },
        "id": "APeAZF1irUkK",
        "outputId": "8bff08a2-44b9-4d7c-db70-38af73215712"
      },
      "execution_count": 18,
      "outputs": [
        {
          "output_type": "display_data",
          "data": {
            "text/plain": [
              "<Figure size 1000x500 with 1 Axes>"
            ],
            "image/png": "[encoded data removed]"
          },
          "metadata": {}
        }
      ]
    },
    {
      "cell_type": "code",
      "source": [
        "# Crashes Severity distribution\n",
        "df['SEVERITY_CATEGORY'].value_counts().plot(kind='pie', autopct='%1.1f%%', figsize=(8, 8))\n",
        "plt.title(\"Distribution of Crash Severity\")\n",
        "plt.show()"
      ],
      "metadata": {
        "colab": {
          "base_uri": "https://localhost:8080/",
          "height": 675
        },
        "id": "vE-bCbFKrZLf",
        "outputId": "b8a4babf-1b50-4906-8640-d92f8c6e66fd"
      },
      "execution_count": 19,
      "outputs": [
        {
          "output_type": "display_data",
          "data": {
            "text/plain": [
              "<Figure size 800x800 with 1 Axes>"
            ],
            "image/png": "[encoded data removed]"
          },
          "metadata": {}
        }
      ]
    },
    {
      "cell_type": "code",
      "source": [
        "import folium\n",
        "from folium.plugins import HeatMap\n",
        "\n",
        "#HeatMap of crashes around San Jose over the year\n",
        "\n",
        "# Create base map centered at San Jose\n",
        "san_jose_map = folium.Map(location=[37.3382, -121.8863], zoom_start=12)\n",
        "\n",
        "# Add heatmap layer\n",
        "HeatMap(df[['LATITUDE', 'LONGITUDE']]).add_to(san_jose_map)\n",
        "\n",
        "# Save & display map\n",
        "san_jose_map.save(\"san_jose_crash_heatmap.html\")\n",
        "print(\"Heatmap saved!\")"
      ],
      "metadata": {
        "colab": {
          "base_uri": "https://localhost:8080/"
        },
        "id": "SRv2lLJHrrJ-",
        "outputId": "13dc98a9-35ff-40c4-9582-fa76a10d746d"
      },
      "execution_count": 20,
      "outputs": [
        {
          "output_type": "stream",
          "name": "stdout",
          "text": [
            "Heatmap saved!\n"
          ]
        }
      ]
    },
    {
      "cell_type": "code",
      "source": [
        "# Severity of the crash depending on the lighting around the place of crash\n",
        "df.groupby(['LIGHTING', 'SEVERITY_CATEGORY']).size().unstack().plot(kind='bar', title=\"Lighting vs Severity\")"
      ],
      "metadata": {
        "colab": {
          "base_uri": "https://localhost:8080/",
          "height": 717
        },
        "id": "whKBvDS9rz52",
        "outputId": "244b88b2-860f-4c7e-8cef-fc70816b517b"
      },
      "execution_count": 21,
      "outputs": [
        {
          "output_type": "execute_result",
          "data": {
            "text/plain": [
              "<Axes: title={'center': 'Lighting vs Severity'}, xlabel='LIGHTING'>"
            ]
          },
          "metadata": {},
          "execution_count": 21
        },
        {
          "output_type": "display_data",
          "data": {
            "text/plain": [
              "<Figure size 640x480 with 1 Axes>"
            ],
            "image/png": "[encoded data removed]"
          },
          "metadata": {}
        }
      ]
    },
    {
      "cell_type": "markdown",
      "source": [
        "# 5. Stored the processed data back to the Big Query"
      ],
      "metadata": {
        "id": "zXj75i5ZST_9"
      }
    },
    {
      "source": [
        "# Initialize BigQuery client with project ID\n",
        "project_id = 'crashes-in-san-jose'\n",
        "client = bigquery.Client(project=project_id)\n",
        "\n",
        "# Define your dataset and table\n",
        "dataset_id = \"SUD_1\"\n",
        "table_id = \"processed_data\"\n",
        "table_ref = f\"{project_id}.{dataset_id}.{table_id}\"\n",
        "\n",
        "# Configure job settings\n",
        "job_config = bigquery.LoadJobConfig(\n",
        "    write_disposition=bigquery.WriteDisposition.WRITE_APPEND,\n",
        "    autodetect=True\n",
        ")\n",
        "\n",
        "# Upload Pandas DataFrame to BigQuery\n",
        "load_job = client.load_table_from_dataframe(df, table_ref, job_config=job_config)\n",
        "\n",
        "# Wait for completion\n",
        "load_job.result()\n",
        "print(\"Upload complete! Data from df is now in BigQuery.\")"
      ],
      "cell_type": "code",
      "metadata": {
        "colab": {
          "base_uri": "https://localhost:8080/"
        },
        "id": "hyOF2mrd4cDs",
        "outputId": "a9baff4d-cec3-497c-e777-58f4947235fa"
      },
      "execution_count": 23,
      "outputs": [
        {
          "output_type": "stream",
          "name": "stdout",
          "text": [
            "Upload complete! Data from df is now in BigQuery.\n"
          ]
        }
      ]
    },
    {
      "cell_type": "code",
      "source": [],
      "metadata": {
        "id": "3ESnusY9u1Mr"
      },
      "execution_count": null,
      "outputs": []
    }
  ]
}